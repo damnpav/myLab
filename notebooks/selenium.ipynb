{
 "cells": [
  {
   "cell_type": "code",
   "execution_count": 9,
   "metadata": {
    "pycharm": {
     "name": "#%%\n"
    }
   },
   "outputs": [],
   "source": [
    "from selenium import webdriver\n",
    "import time"
   ]
  },
  {
   "cell_type": "code",
   "execution_count": 10,
   "metadata": {
    "pycharm": {
     "name": "#%%\n"
    }
   },
   "outputs": [],
   "source": [
    "driver = webdriver.Firefox(executable_path=r'C:\\Users\\hcani\\Documents\\drive\\python\\geckodriver-v0.24.0-win64\\geckodriver.exe')\n",
    "driver.get(\"https://finance.yahoo.com/quote/TRIP/history?period1=1323201600&period2=1564347600&interval=1d&filter=history&frequency=1d\")\n",
    "time.sleep(5)\n",
    "#driver.get(\"https://query1.finance.yahoo.com/v7/finance/download/TRIP?period1=000000000&period2=1564347600&interval=1d&events=history&crumb=SbZIb6A2F9u\")\n",
    "#driver.get(\"https://query1.finance.yahoo.com/v7/finance/download/TRIP?period1=000000000&period2=1564347600&interval=1d&events=history&crumb=SbZIb6A2F9u\")\n",
    "#assert \"Python\" in driver.title"
   ]
  },
  {
   "cell_type": "code",
   "execution_count": 12,
   "metadata": {
    "pycharm": {
     "name": "#%%\n"
    }
   },
   "outputs": [],
   "source": [
    "continue_link = driver.find_element_by_link_text('Download Data')\n",
    "continue_link.click() #TODO List Отработать ненахождение бумаги"
   ]
  },
  {
   "cell_type": "code",
   "execution_count": null,
   "metadata": {
    "pycharm": {
     "name": "#%%\n"
    }
   },
   "outputs": [],
   "source": []
  }
 ],
 "metadata": {
  "kernelspec": {
   "display_name": "Python 3",
   "language": "python",
   "name": "python3"
  },
  "language_info": {
   "codemirror_mode": {
    "name": "ipython",
    "version": 3
   },
   "file_extension": ".py",
   "mimetype": "text/x-python",
   "name": "python",
   "nbconvert_exporter": "python",
   "pygments_lexer": "ipython3",
   "version": "3.7.3"
  }
 },
 "nbformat": 4,
 "nbformat_minor": 2
}