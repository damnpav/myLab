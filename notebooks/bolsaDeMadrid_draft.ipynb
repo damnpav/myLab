{
 "cells": [
  {
   "cell_type": "code",
   "execution_count": 1,
   "metadata": {
    "pycharm": {
     "name": "#%%\n"
    }
   },
   "outputs": [],
   "source": [
    "from bs4 import BeautifulSoup # УЖЕ ПЕРЕНЕСЛИ В PYCHARM"
   ]
  },
  {
   "cell_type": "code",
   "execution_count": 2,
   "metadata": {
    "pycharm": {
     "name": "#%%\n"
    }
   },
   "outputs": [],
   "source": [
    "import requests"
   ]
  },
  {
   "cell_type": "code",
   "execution_count": 3,
   "metadata": {
    "pycharm": {
     "name": "#%%\n"
    }
   },
   "outputs": [],
   "source": [
    "url = 'http://www.bolsamadrid.es/ing/aspx/Portada/Portada.aspx'"
   ]
  },
  {
   "cell_type": "code",
   "execution_count": 4,
   "metadata": {
    "pycharm": {
     "name": "#%%\n"
    }
   },
   "outputs": [],
   "source": [
    "doc = requests.get(url) # get html"
   ]
  },
  {
   "cell_type": "code",
   "execution_count": 48,
   "metadata": {
    "pycharm": {
     "name": "#%%\n"
    }
   },
   "outputs": [],
   "source": [
    "soup = BeautifulSoup(''.join(doc.text)) # push html to soup"
   ]
  },
  {
   "cell_type": "code",
   "execution_count": 25,
   "metadata": {
    "pycharm": {
     "name": "#%%\n"
    }
   },
   "outputs": [],
   "source": [
    "tags = soup.findAll(['td', 'a'])"
   ]
  },
  {
   "cell_type": "code",
   "execution_count": 26,
   "metadata": {
    "pycharm": {
     "name": "#%%\n"
    }
   },
   "outputs": [
    {
     "data": {
      "text/plain": [
       "1013"
      ]
     },
     "execution_count": 26,
     "metadata": {},
     "output_type": "execute_result"
    }
   ],
   "source": [
    "len(tags)"
   ]
  },
  {
   "cell_type": "code",
   "execution_count": 33,
   "metadata": {
    "pycharm": {
     "name": "#%%\n"
    }
   },
   "outputs": [
    {
     "name": "stdout",
     "output_type": "stream",
     "text": [
      "<td class=\"BaseCont\">\n",
      "<div class=\"col4\">\n",
      "<div id=\"PortBolsa\">\n",
      "<div class=\"coln1\"><div class=\"CuadroSlides\" style=\"width:250px;height:180px;\"><div class=\"mclick\" data-slidetiempo=\"40000\"><a href=\"javascript:sacaVentana('https://youtu.be/v5v6vmXBzZ8')\" target=\"_self\"><div align=\"center\"><img border=\"0\" src=\"/aspx/Imagen.ashx?num=5327\"/></div></a></div><div class=\"mclick\" data-slidetiempo=\"60000\" style=\"display:none;\"><a href=\"javascript:sacaVentanaPeq('http://www.bolsamadrid.es/ing/Indices/Ibex/Factsheet_Ibex.aspx')\" target=\"_self\"><div align=\"center\"><img border=\"0\" src=\"/aspx/Imagen.ashx?num=4813\"/></div></a></div></div>\n",
      "<div class=\"CuadroSlides\" style=\"width:250px;height:105px;\"><div class=\"mclick\" data-slidetiempo=\"40000\"><a href='javascript:NotaPrensa(\"ing\",\"notas\",\"20191001\",\"nota_20191001_2\")' target=\"_self\"><div style=\"font-size: 12px; color: #00325D; font-weight: bold; text-align: Left; margin: 0px 0px 7px 0px\">Ring the Bell for Financial Literacy</div><div style=\"font-size: 12px; color: #666666; font-weight: normal; text-align: Left; margin: 0px 0px 0px 0px\">The Madrid stock exchange today hosted a bell-ringing ceremony to support financial literacy. The event, which marks the start of the world investor week, is promoted by BME, IOSCO and WFE.</div></a></div><div class=\"mclick\" data-slidetiempo=\"30000\" style=\"display:none;\"><a href=\"http://www.bolsamadrid.es/ing/Indices/Ibex/Factsheet_Ibex.aspx\" target=\"_self\"><div style=\"font-size: 12px; color: #00325D; font-weight: bold; text-align: Left; margin: 0px 0px 7px 0px\">IBEX35® Indices Factsheets\n",
      "\n",
      "</div><div style=\"font-size: 12px; color: #666666; font-weight: normal; text-align: Left; margin: 0px 0px 0px 0px\">Get to know the IBEX® indices, their main \n",
      "characteristics, calculation methods, ratios and price trends.\n",
      "\n",
      "\n",
      "</div></a></div></div>\n",
      "</div>\n",
      "<div class=\"coln2\"><div class=\"CuadroSlides\" style=\"width:205px;height:90px;\"><div class=\"mclick\" data-slidetiempo=\"40000\"><a href='javascript:NotaPrensa(\"ing\",\"notas\",\"20181121\",\"nota_20181121_4\")' target=\"_self\"><div align=\"center\"><img border=\"0\" src=\"/aspx/Imagen.ashx?num=4988\"/></div></a></div><div class=\"mclick\" data-slidetiempo=\"70000\" style=\"display:none;\"><a href=\"http://www.bolsamadrid.es/ing/Empresas/Lighthouse.aspx\" target=\"_self\"><div align=\"center\"><img border=\"0\" src=\"/aspx/Imagen.ashx?num=5012\"/></div></a></div><div class=\"mclick\" data-labelga=\"Stock Exchange Palace 125th. Anniversary\" data-slidetiempo=\"40000\" style=\"display:none;\"><a href=\"https://www.125palaciobolsa.es/\" target=\"_blank\"><div align=\"center\"><img border=\"0\" src=\"/aspx/Imagen.ashx?num=4784\"/></div><div style=\"font-size: 12px; color: #00325D; font-weight: bold; text-align: Left; margin: 0px 0px 7px 0px\">Stock Exchange Palace 125th. Anniversary</div></a></div><div class=\"mclick\" data-slidetiempo=\"20000\" style=\"display:none;\"><a href=\"http://www.bolsamadrid.es/ing/Empresas/MorningStar_IbexMed.aspx\" target=\"_self\"><div align=\"center\"><img border=\"0\" src=\"/aspx/Imagen.ashx?num=1967\"/></div></a></div></div>\n",
      "<div id=\"ctl00_Contenido_CuadroColDerecha_cpP2_Cuadro\" style=\"overflow: hidden; margin-bottom: 15px;\">\n",
      "<div class=\"NotaPrensa TituloSup\">Latest Press Release</div>\n",
      "<div class=\"mclick NotaPrensa\" style=\"height: 90px;overflow: hidden;\"><div class=\"Fecha\">04/11/2019</div>\n",
      "<span class=\"TextoNota\"><a href=\"javascript:NotaPrensa('ing','notas','20191104','nota_20191104_2')\">The Spanish Exchange traded €46.91 bn in October</a></span></div>\n",
      "</div>\n",
      "<div class=\"CuadroSlides\" style=\"width:205px;height:90px;\"><div class=\"mclick\" data-slidetiempo=\"40000\"><a href=\"https://www.forolatibex.com/2019/ing/Home\" target=\"_blank\"><div align=\"center\"><img border=\"0\" src=\"/aspx/Imagen.ashx?num=5373\"/></div></a></div><div class=\"mclick\" data-labelga=\"BMe Mifi ingles\" data-slidetiempo=\"50000\" style=\"display:none;\"><a href=\"http://www.bolsamadrid.es/ing/Miembros/MIFID_II.aspx\" target=\"_self\"><div align=\"center\"><img border=\"0\" src=\"/aspx/Imagen.ashx?num=4444\"/></div></a></div><div class=\"mclick\" data-slidetiempo=\"40000\" style=\"display:none;\"><a href=\"https://www.bolsasymercados.es/BME_4Companies/ing/Home\" target=\"_self\"><div align=\"center\"><img border=\"0\" src=\"/aspx/Imagen.ashx?num=4375\"/></div></a></div><div class=\"mclick\" data-slidetiempo=\"20000\" style=\"display:none;\"><a href=\"http://www.bolsamadrid.es/ing/BMadrid/Palacio/Eventos.aspx\" target=\"_blank\"><div align=\"center\"><img border=\"0\" src=\"/aspx/Imagen.ashx?num=3059\"/></div></a></div></div>\n",
      "</div>\n",
      "<div class=\"finFila\"></div>\n",
      "</div>\n",
      "<div class=\"PortBotones\"><table cellpadding=\"2\" cellspacing=\"0\">\n",
      "<tr><td class=\"PortBoton mclick\" style=\"background-image: url(/images/Base/PortBoton1.png)\"><a href=\"/ing/aspx/Mercados/Precios.aspx?indice=ESI100000000\" target=\"_self\">Shares</a></td>\n",
      "<td class=\"PortBoton mclick\" style=\"background-image: url(/images/Base/PortBoton2.png)\"><a href=\"/ing/aspx/Empresas/OperFinancieras/Dividendos.aspx\" target=\"_self\">Dividends</a></td>\n",
      "<td class=\"PortBoton mclick\" style=\"background-image: url(/images/Base/PortBoton3.png)\"><a href=\"/ing/aspx/Estadisticas/Boletin/frameboletin.aspx\" target=\"_self\">Bulletin</a></td>\n",
      "<td class=\"PortBoton mclick\" style=\"background-image: url(/images/Base/PortBoton4.png)\"><a href=\"/ing/aspx/Empresas/HechosRelevantesUltimos.aspx\" target=\"_self\">Relevant Facts</a></td>\n",
      "</tr><tr><td class=\"PortBoton mclick\" style=\"background-image: url(/images/Base/PortBoton5.png)\"><a href=\"javascript:sacaVentanaPeq('http://www.bmemarketdata.es')\" target=\"_self\">Market Data</a></td>\n",
      "<td class=\"PortBoton mclick\" style=\"background-image: url(/images/Base/PortBoton6.png)\"><a href=\"/ing/Estadisticas/Estadisticas.aspx\" target=\"_self\">Statistics</a></td>\n",
      "<td class=\"PortBoton mclick\" style=\"background-image: url(/images/Base/PortBoton7.png)\"><a href=\"/ing/aspx/Mercados/Cartera/cartera.aspx\" target=\"_self\">Your portfolio</a></td>\n",
      "<td class=\"PortBoton mclick\" style=\"background-image: url(/images/Base/PortBoton8.png)\"><a href=\"/ing/aspx/Inversores/Formacion/Formacion.aspx?tipo=T\" target=\"_self\">Education</a></td>\n",
      "</tr>\n",
      "</table>\n",
      "</div>\n",
      "<div class=\"PortLinks\"><div class=\"col2 primero\">\n",
      "<div class=\"mclick\"><a href=\"/ing/Inversores/Formacion/QueeslaBolsa.aspx\" target=\"_self\">What is the Stock Exchange?</a></div>\n",
      "<div class=\"mclick\"><a href=\"/ing/Inversores/Formacion/Invertir/PerfilInversor.aspx\" target=\"_self\">How to invest in stocks</a></div>\n",
      "<div class=\"mclick\"><a href=\"http://www.bolsamadrid.es/ing/aspx/Regulacion/Regulacion.aspx?cod=SBolsas\" target=\"_self\">Regulation</a></div>\n",
      "</div><div class=\"col2\">\n",
      "<div class=\"mclick\"><a href=\"http://www.bolsasymercados.es/ing/Studies-Research/Documentos/Estudios-Reportajes\" target=\"_blank\">Studies &amp; Reports</a></div>\n",
      "<div class=\"mclick\"><a href=\"/ing/BMadrid/Palacio/Visita.aspx\" target=\"_self\">Visit the Stock Exchange</a></div>\n",
      "<div class=\"mclick\"><a href=\"/ing/Inversores/Formacion/Invertir/FAQS.aspx\" target=\"_self\">FAQs</a></div>\n",
      "</div>\n",
      "<div class=\"finFila\"></div>\n",
      "</div>\n",
      "<script language=\"javascript\">\r\n",
      "var selTblIndicadoresMes = function () {\r\n",
      "    var data = { 'tipo': '' };\r\n",
      "    if (arguments.length > 0) data['fecha'] = arguments[0];\r\n",
      "    $(\".TblIndPort[data-tablaInd='Calendario']\").html(\"\").css(\"background-image\", \"url(/images/loading80x60.gif)\")\r\n",
      "        .load(\"/\" + idioma + \"/aspx/Inversores/Agenda/CalendarioPortadaSemanal.aspx\", data, function () { $(this).css(\"background-image\", \"none\"); });\r\n",
      "}\r\n",
      "var selTblIndicadores = function (idTbl) {\r\n",
      "    $(\".TblIndPort\").hide().filter(\"[data-tablaInd='\"+idTbl+\"']\").show();\r\n",
      "    $(\"TABLE#TblIndPort TD\")\r\n",
      "        .filter(\".On\").removeClass(\"On\").addClass(\"Off\").end()\r\n",
      "        .filter(\"[data-tablaInd='\" + idTbl + \"']\").addClass(\"On\").removeClass(\"Off\");\r\n",
      "    if (idTbl == 'Calendario') selTblIndicadoresMes();\r\n",
      "}\r\n",
      "</script>\n",
      "<table cellpadding=\"0\" cellspacing=\"0\" class=\"TitTbl\" id=\"TblIndPort\" width=\"100%\"><tr align=\"center\">\n",
      "<td class=\"On mclick\" data-tablaind=\"Indicadores\" width=\"60%\"><a href=\"javascript:selTblIndicadores('Indicadores');\">\r\n",
      "Daily Agenda 04/11/2019</a></td>\n",
      "<td class=\"Off mclick\" data-tablaind=\"Calendario\" width=\"40%\"><a href=\"javascript:selTblIndicadores('Calendario');\">\r\n",
      "Weekly Agenda</a></td>\n",
      "</tr></table>\n",
      "<table border=\"0\" cellpadding=\"3\" cellspacing=\"0\" class=\"TblPort TblIndPort\" data-tablaind=\"Indicadores\" width=\"100%\">\n",
      "<tr>\n",
      "<th>Event/Indicator</th>\n",
      "<th>Country</th>\n",
      "<th>Period</th>\n",
      "<th>Previous</th>\n",
      "<th>Predicted</th>\n",
      "<th>Present</th>\n",
      "</tr>\n",
      "<tr><td class=\"Ult\" colspan=\"6\">Acerinox -  Q3 2019 Results</td></tr>\n",
      "<tr><td>Factory Orders</td><td><img border=\"0\" src=\"/images/banderas/EEUU.gif\"/> United States</td><td>September</td><td align=\"right\">-0.1%               </td><td align=\"right\">-0.5%               </td><td align=\"right\" class=\"Ult\">-0.6%               </td></tr>\n",
      "</table>\n",
      "<div class=\"TblIndPort\" data-tablaind=\"Calendario\" id=\"TblIndPortCalendario\" style=\"display: none;\"></div>\n",
      "</div>\n",
      "<div class=\"col2\">\n",
      "<div class=\"PortadaInds\">\n",
      "<!--[if lte IE 8]><script language=\"javascript\" type=\"text/javascript\" src=\"/js/flot/excanvas.min.js\"></script><![endif]-->\n",
      "<script language=\"javascript\" src=\"/js/flot/jquery.flot.min.js\" type=\"text/javascript\"></script>\n",
      "<script language=\"javascript\" src=\"/js/jshashtable-2.1.js\" type=\"text/javascript\"></script>\n",
      "<script language=\"javascript\" src=\"/js/jquery.numberformatter-1.2.1.min.js\" type=\"text/javascript\"></script>\n",
      "<script language=\"javascript\" src=\"/js/graficos.js\" type=\"text/javascript\"></script>\n",
      "<script language=\"javascript\">\r\n",
      "var cultura = (id == 'ing') ? 'us' : 'es', idioma = id, CodIndSel = null;\r\n",
      "\r\n",
      "var selectIndex = function (nuevo) {\r\n",
      "    if (nuevo == undefined || CodIndSel != nuevo) {\r\n",
      "        var tbl = $(\".PortadaInds TABLE.TblTitulo\");\r\n",
      "        var btnSel = $(\"TD.On\", tbl);\r\n",
      "\r\n",
      "        if (nuevo == undefined) nuevo = btnSel.attr('data-cod');\r\n",
      "        var btn = $(\"TD[data-cod='\" + nuevo + \"']\", tbl);\r\n",
      "\r\n",
      "        btnSel.removeClass(\"On\").addClass(\"Off\");\r\n",
      "        btn.addClass(\"On\").removeClass(\"Off\");\r\n",
      "        CodIndSel = nuevo;\r\n",
      "        pintarGrafico(nuevo, btn.text(), false);\r\n",
      "    }\r\n",
      "};\r\n",
      "$(function () {\r\n",
      "    selectIndex();\r\n",
      "    initMouseOver();\r\n",
      "});\r\n",
      "</script>\n",
      "<table cellpadding=\"0\" cellspacing=\"0\" class=\"TblTitulo TitTbl\" width=\"100%\"><tr align=\"center\">\n",
      "<td class=\"On mclick\" data-cod=\"ESI100000000\"><a href=\"javascript:selectIndex('ESI100000000');\"><div style=\"height: 5px;\"></div>IBEX 35</a></td>\n",
      "<td class=\"Off mclick\" data-cod=\"ESI060000000\"><a href=\"javascript:selectIndex('ESI060000000');\">IBEX <br/>MEDIUM</a></td>\n",
      "<td class=\"Off mclick\" data-cod=\"ESI220000000\"><a href=\"javascript:selectIndex('ESI220000000');\">LATIBEX <br/>TOP</a></td>\n",
      "<td class=\"Off mclick\" data-cod=\"ESI500000000\"><a href=\"javascript:selectIndex('ESI500000000');\"><div style=\"height: 5px;\"></div>IGBM</a></td>\n",
      "</tr></table>\n",
      "<table cellpadding=\"0\" cellspacing=\"0\" class=\"TblIndice\" width=\"100%\"><tr>\n",
      "<td class=\"Datos\">\n",
      "<span class=\"Nombre\" id=\"nombreIndice\"></span><br/>\n",
      "<span class=\"Fecha\" id=\"fechaIndice\"></span>\n",
      "</td>\n",
      "<td class=\"Flecha\"></td>\n",
      "<td class=\"Cifras DifSb\" id=\"valorIndice\">\n",
      "<span class=\"Precio\" id=\"precioIndice\"></span><br/>\n",
      "<span class=\"DifClSb\" id=\"difIndice\"></span>\n",
      "</td>\n",
      "</tr></table>\n",
      "<div id=\"placeholder\" style=\"width: 100%; height: 175px; clear: both; border-bottom: solid 1px #E7E7E7; \"></div>\n",
      "<div id=\"capa_cargando\" style=\"position:relative;margin-top:-175px;width: 100%; height: 175px; clear: both;text-align:center;\"><img src=\"/images/loading80x60.gif\" style=\"margin-top:50px\"/></div>\n",
      "<div id=\"masIndices\" style=\"width: 100%; text-align: right; margin-top:8px; margin-bottom:22px\">\n",
      "<a class=\"SubTitulo\" href=\"/ing/aspx/Indices/Resumen.aspx\" style=\"text-decoration: none;\">More indices <img border=\"0\" src=\"/images/Base/FlechaAz.gif\"/></a>\n",
      "</div>\n",
      "</div>\n",
      "<script language=\"javascript\">\r\n",
      "var selTblAccPort = function (idTbl, grupo) {\r\n",
      "    $(\"TABLE.TblAccPort[data-tablaGrupo='\" + grupo + \"']\").hide().filter(\"[data-tablaAcc='\"+idTbl+\"']\").show();\r\n",
      "    $(\"TABLE.CabTblAccPort[data-tablaGrupo='\" + grupo + \"'] TD\")\r\n",
      "        .filter(\".On\").removeClass(\"On\").addClass(\"Off\").end()\r\n",
      "        .filter(\"[data-tablaAcc='\" + idTbl + \"']\").addClass(\"On\").removeClass(\"Off\");\r\n",
      "};\r\n",
      "var selTblIndiceMerc = function (idTbl) { selTblAccPort(idTbl, \"IndiceMerc\"); }\r\n",
      "</script>\n",
      "<table cellpadding=\"0\" cellspacing=\"0\" class=\"CabTblAccPort TitTbl\" data-tablagrupo=\"IndiceMerc\" width=\"100%\"><tr align=\"center\">\n",
      "<td class=\"On mclick\" data-tablaacc=\"IndMerc1\" width=\"50%\"><a href=\"javascript:selTblIndiceMerc('IndMerc1');\">IBEX 35®</a></td>\n",
      "<td class=\"Off mclick\" data-tablaacc=\"IndMerc2\" width=\"50%\"><a href=\"javascript:selTblIndiceMerc('IndMerc2');\">Continuous M.</a></td>\n",
      "</tr></table>\n",
      "<table border=\"0\" cellpadding=\"3\" cellspacing=\"0\" class=\"TblPort TblAccPort\" data-scroll=\"5\" data-tablaacc=\"IndMerc1\" data-tablagrupo=\"IndiceMerc\" width=\"100%\">\n",
      "<tr><th>Name</th><th>Last</th><th>% Dif.</th></tr>\n",
      "<tr align=\"right\"><td align=\"left\" class=\"DifFlSb\"><a href=\"/ing/aspx/Empresas/FichaValor.aspx?ISIN=ES0125220311\">ACCIONA</a></td><td>93.3000</td><td class=\"DifClSb\">0.21</td></tr><tr align=\"right\"><td align=\"left\" class=\"DifFlSb\"><a href=\"/ing/aspx/Empresas/FichaValor.aspx?ISIN=ES0132105018\">ACERINOX</a></td><td>8.9440</td><td class=\"DifClSb\">3.81</td></tr><tr align=\"right\"><td align=\"left\" class=\"DifFlSb\"><a href=\"/ing/aspx/Empresas/FichaValor.aspx?ISIN=ES0167050915\">ACS</a></td><td>37.2400</td><td class=\"DifClSb\">1.06</td></tr><tr align=\"right\"><td align=\"left\" class=\"DifFlSb\"><a href=\"/ing/aspx/Empresas/FichaValor.aspx?ISIN=ES0105046009\">AENA</a></td><td>167.4500</td><td class=\"DifClSb\">0.03</td></tr><tr align=\"right\"><td align=\"left\" class=\"DifFlSb\"><a href=\"/ing/aspx/Empresas/FichaValor.aspx?ISIN=ES0109067019\">AMADEUS</a></td><td>67.8400</td><td class=\"DifClSb\">0.98</td></tr><tr align=\"right\"><td align=\"left\" class=\"DifFlSb\"><a href=\"/ing/aspx/Empresas/FichaValor.aspx?ISIN=LU1598757687\">ARCELORMIT.</a></td><td>14.6440</td><td class=\"DifClSb\">4.33</td></tr><tr align=\"right\"><td align=\"left\" class=\"DifFlSb\"><a href=\"/ing/aspx/Empresas/FichaValor.aspx?ISIN=ES0113860A34\">BA.SABADELL</a></td><td>1.0165</td><td class=\"DifClSb\">2.33</td></tr><tr align=\"right\"><td align=\"left\" class=\"DifFlSb\"><a href=\"/ing/aspx/Empresas/FichaValor.aspx?ISIN=ES0113900J37\">BA.SANTANDER</a></td><td>3.7170</td><td class=\"DifClSb\">2.96</td></tr><tr align=\"right\"><td align=\"left\" class=\"DifFlSb\"><a href=\"/ing/aspx/Empresas/FichaValor.aspx?ISIN=ES0113307062\">BANKIA</a></td><td>1.8055</td><td class=\"DifClSb\">4.64</td></tr><tr align=\"right\"><td align=\"left\" class=\"DifFlSb\"><a href=\"/ing/aspx/Empresas/FichaValor.aspx?ISIN=ES0113679I37\">BANKINTER</a></td><td>6.4420</td><td class=\"DifClSb\">2.38</td></tr><tr align=\"right\"><td align=\"left\" class=\"DifFlSb\"><a href=\"/ing/aspx/Empresas/FichaValor.aspx?ISIN=ES0113211835\">BBVA</a></td><td>4.8725</td><td class=\"DifClSb\">2.95</td></tr><tr align=\"right\"><td align=\"left\" class=\"DifFlSb\"><a href=\"/ing/aspx/Empresas/FichaValor.aspx?ISIN=ES0140609019\">CAIXABANK</a></td><td>2.6920</td><td class=\"DifClSb\">1.62</td></tr><tr align=\"right\"><td align=\"left\" class=\"DifFlBj\"><a href=\"/ing/aspx/Empresas/FichaValor.aspx?ISIN=ES0105066007\">CELLNEX</a></td><td>37.9000</td><td class=\"DifClBj\">-0.94</td></tr><tr align=\"right\"><td align=\"left\" class=\"DifFlSb\"><a href=\"/ing/aspx/Empresas/FichaValor.aspx?ISIN=ES0105630315\">CIE AUTOMOT.</a></td><td>22.3400</td><td class=\"DifClSb\">3.71</td></tr><tr align=\"right\"><td align=\"left\" class=\"DifFlSb\"><a href=\"/ing/aspx/Empresas/FichaValor.aspx?ISIN=ES0130960018\">ENAGAS</a></td><td>22.0000</td><td class=\"DifClSb\">0.32</td></tr><tr align=\"right\"><td align=\"left\" class=\"DifFlSb\"><a href=\"/ing/aspx/Empresas/FichaValor.aspx?ISIN=ES0130625512\">ENCE</a></td><td>3.7300</td><td class=\"DifClSb\">0.43</td></tr><tr align=\"right\"><td align=\"left\" class=\"DifFlSb\"><a href=\"/ing/aspx/Empresas/FichaValor.aspx?ISIN=ES0130670112\">ENDESA</a></td><td>24.3000</td><td class=\"DifClSb\">0.21</td></tr><tr align=\"right\"><td align=\"left\" class=\"DifFlSb\"><a href=\"/ing/aspx/Empresas/FichaValor.aspx?ISIN=ES0118900010\">FERROVIAL</a></td><td>27.0700</td><td class=\"DifClSb\">0.22</td></tr><tr align=\"right\"><td align=\"left\" class=\"DifFlSb\"><a href=\"/ing/aspx/Empresas/FichaValor.aspx?ISIN=ES0171996087\">GRIFOLS CL.A</a></td><td>29.4200</td><td class=\"DifClSb\">0.07</td></tr><tr align=\"right\"><td align=\"left\" class=\"DifFlSb\"><a href=\"/ing/aspx/Empresas/FichaValor.aspx?ISIN=ES0177542018\">IAG</a></td><td>6.3720</td><td class=\"DifClSb\">1.30</td></tr><tr align=\"right\"><td align=\"left\" class=\"DifFlBj\"><a href=\"/ing/aspx/Empresas/FichaValor.aspx?ISIN=ES0144580Y14\">IBERDROLA</a></td><td>9.1320</td><td class=\"DifClBj\">-0.48</td></tr><tr align=\"right\"><td align=\"left\" class=\"DifFlSb\"><a href=\"/ing/aspx/Empresas/FichaValor.aspx?ISIN=ES0148396007\">INDITEX</a></td><td>28.2500</td><td class=\"DifClSb\">0.04</td></tr><tr align=\"right\"><td align=\"left\" class=\"DifFlSb\"><a href=\"/ing/aspx/Empresas/FichaValor.aspx?ISIN=ES0118594417\">INDRA A</a></td><td>8.8500</td><td class=\"DifClSb\">0.34</td></tr><tr align=\"right\"><td align=\"left\" class=\"DifFlSb\"><a href=\"/ing/aspx/Empresas/FichaValor.aspx?ISIN=ES0139140174\">INM.COLONIAL</a></td><td>11.5000</td><td class=\"DifClSb\">0.61</td></tr><tr align=\"right\"><td align=\"left\" class=\"DifFlSb\"><a href=\"/ing/aspx/Empresas/FichaValor.aspx?ISIN=ES0124244E34\">MAPFRE</a></td><td>2.5500</td><td class=\"DifClSb\">0.75</td></tr><tr align=\"right\"><td align=\"left\" class=\"DifFlSb\"><a href=\"/ing/aspx/Empresas/FichaValor.aspx?ISIN=ES0184696104\">MASMOVIL</a></td><td>20.4200</td><td class=\"DifClSb\">0.39</td></tr><tr align=\"right\"><td align=\"left\" class=\"DifFlSb\"><a href=\"/ing/aspx/Empresas/FichaValor.aspx?ISIN=ES0152503035\">MEDIASET</a></td><td>5.4860</td><td class=\"DifClSb\">0.44</td></tr><tr align=\"right\"><td align=\"left\" class=\"DifFlBj\"><a href=\"/ing/aspx/Empresas/FichaValor.aspx?ISIN=ES0176252718\">MELIA HOTELS</a></td><td>7.2750</td><td class=\"DifClBj\">-2.15</td></tr><tr align=\"right\"><td align=\"left\" class=\"DifFlSb\"><a href=\"/ing/aspx/Empresas/FichaValor.aspx?ISIN=ES0105025003\">MERLIN</a></td><td>13.1800</td><td class=\"DifClSb\">0.38</td></tr><tr align=\"right\"><td align=\"left\" class=\"DifFlBj\"><a href=\"/ing/aspx/Empresas/FichaValor.aspx?ISIN=ES0116870314\">NATURGY</a></td><td>23.9000</td><td class=\"DifClBj\">-0.46</td></tr><tr align=\"right\"><td align=\"left\" class=\"DifFlBj\"><a href=\"/ing/aspx/Empresas/FichaValor.aspx?ISIN=ES0173093024\">R.E.C.</a></td><td>18.0200</td><td class=\"DifClBj\">-0.22</td></tr><tr align=\"right\"><td align=\"left\" class=\"DifFlSb\"><a href=\"/ing/aspx/Empresas/FichaValor.aspx?ISIN=ES0173516115\">REPSOL</a></td><td>15.4700</td><td class=\"DifClSb\">2.15</td></tr><tr align=\"right\"><td align=\"left\" class=\"DifFlSb\"><a href=\"/ing/aspx/Empresas/FichaValor.aspx?ISIN=ES0143416115\">SIEMENS GAME</a></td><td>12.8650</td><td class=\"DifClSb\">1.78</td></tr><tr align=\"right\"><td align=\"left\" class=\"DifFlSb\"><a href=\"/ing/aspx/Empresas/FichaValor.aspx?ISIN=ES0178430E18\">TELEFONICA</a></td><td>6.9470</td><td class=\"DifClSb\">0.48</td></tr><tr align=\"right\"><td align=\"left\" class=\"DifFlBj\"><a href=\"/ing/aspx/Empresas/FichaValor.aspx?ISIN=ES0184262212\">VISCOFAN</a></td><td>48.4400</td><td class=\"DifClBj\">-0.90</td></tr></table>\n",
      "<table border=\"0\" cellpadding=\"3\" cellspacing=\"0\" class=\"TblPort TblAccPort\" data-scroll=\"5\" data-tablaacc=\"IndMerc2\" data-tablagrupo=\"IndiceMerc\" style=\"display: none;\" width=\"100%\">\n",
      "<tr><th>Name</th><th>Last</th><th>% Dif.</th></tr>\n",
      "<tr align=\"right\"><td align=\"left\" class=\"DifFlBj\"><a href=\"/ing/aspx/Empresas/FichaValor.aspx?ISIN=ES0105200416\">ABENGOA A</a></td><td>0.0198</td><td class=\"DifClBj\">-1.00</td></tr><tr align=\"right\"><td align=\"left\" class=\"DifFlBj\"><a href=\"/ing/aspx/Empresas/FichaValor.aspx?ISIN=ES0105200002\">ABENGOA B</a></td><td>0.0096</td><td class=\"DifClBj\">-1.03</td></tr><tr align=\"right\"><td align=\"left\" class=\"DifFlSb\"><a href=\"/ing/aspx/Empresas/FichaValor.aspx?ISIN=ES0125220311\">ACCIONA</a></td><td>93.3000</td><td class=\"DifClSb\">0.21</td></tr><tr align=\"right\"><td align=\"left\" class=\"DifFlSb\"><a href=\"/ing/aspx/Empresas/FichaValor.aspx?ISIN=ES0132105018\">ACERINOX</a></td><td>8.9440</td><td class=\"DifClSb\">3.81</td></tr><tr align=\"right\"><td align=\"left\" class=\"DifFlSb\"><a href=\"/ing/aspx/Empresas/FichaValor.aspx?ISIN=ES0167050915\">ACS</a></td><td>37.2400</td><td class=\"DifClSb\">1.06</td></tr><tr align=\"right\"><td align=\"left\" class=\"DifFlBj\"><a href=\"/ing/aspx/Empresas/FichaValor.aspx?ISIN=ES0106000013\">ADOLFO DGUEZ</a></td><td>7.3600</td><td class=\"DifClBj\">-1.60</td></tr><tr align=\"right\"><td align=\"left\" class=\"DifFlSb\"><a href=\"/ing/aspx/Empresas/FichaValor.aspx?ISIN=ES0105287009\">AEDAS</a></td><td>20.7000</td><td class=\"DifClSb\">3.24</td></tr><tr align=\"right\"><td align=\"left\" class=\"DifFlSb\"><a href=\"/ing/aspx/Empresas/FichaValor.aspx?ISIN=ES0105046009\">AENA</a></td><td>167.4500</td><td class=\"DifClSb\">0.03</td></tr><tr align=\"right\"><td align=\"left\" class=\"DifFlSb\"><a href=\"/ing/aspx/Empresas/FichaValor.aspx?ISIN=NL0000235190\">AIRBUS SE</a></td><td>131.1000</td><td class=\"DifClSb\">0.86</td></tr><tr align=\"right\"><td align=\"left\" class=\"DifFlBj\"><a href=\"/ing/aspx/Empresas/FichaValor.aspx?ISIN=ES0152768612\">AIRTIFICIAL</a></td><td>0.1020</td><td class=\"DifClBj\">-1.54</td></tr><tr align=\"right\"><td align=\"left\" class=\"DifFlSb\"><a href=\"/ing/aspx/Empresas/FichaValor.aspx?ISIN=ES0126501131\">ALANTRA</a></td><td>15.8000</td><td class=\"DifClSb\">3.61</td></tr><tr align=\"right\"><td align=\"left\" class=\"DifFlSb\"><a href=\"/ing/aspx/Empresas/FichaValor.aspx?ISIN=ES0157097017\">ALMIRALL</a></td><td>17.0000</td><td class=\"DifClSb\">0.18</td></tr><tr align=\"right\"><td align=\"left\" class=\"DifFlSb\"><a href=\"/ing/aspx/Empresas/FichaValor.aspx?ISIN=ES0109067019\">AMADEUS</a></td><td>67.8400</td><td class=\"DifClSb\">0.98</td></tr><tr align=\"right\"><td align=\"left\" class=\"DifFlSb\"><a href=\"/ing/aspx/Empresas/FichaValor.aspx?ISIN=ES0109260531\">AMPER</a></td><td>0.2620</td><td class=\"DifClSb\">0.77</td></tr><tr align=\"right\"><td align=\"left\" class=\"DifFlBj\"><a href=\"/ing/aspx/Empresas/FichaValor.aspx?ISIN=ES0105375002\">AMREST</a></td><td>10.9000</td><td class=\"DifClBj\">-0.91</td></tr><tr align=\"right\"><td align=\"left\" class=\"DifFlSb\"><a href=\"/ing/aspx/Empresas/FichaValor.aspx?ISIN=LU0569974404\">APERAM</a></td><td>24.2800</td><td class=\"DifClSb\">2.40</td></tr><tr align=\"right\"><td align=\"left\" class=\"DifFlSb\"><a href=\"/ing/aspx/Empresas/FichaValor.aspx?ISIN=ES0105022000\">APPLUS</a></td><td>10.8400</td><td class=\"DifClSb\">0.84</td></tr><tr align=\"right\"><td align=\"left\" class=\"DifFlSb\"><a href=\"/ing/aspx/Empresas/FichaValor.aspx?ISIN=LU1598757687\">ARCELORMIT.</a></td><td>14.6440</td><td class=\"DifClSb\">4.33</td></tr><tr align=\"right\"><td align=\"left\" class=\"DifFlSb\"><a href=\"/ing/aspx/Empresas/FichaValor.aspx?ISIN=ES0105376000\">ARIMA</a></td><td>10.4000</td><td class=\"DifClSb\">2.97</td></tr><tr align=\"right\"><td align=\"left\" class=\"DifFlSb\"><a href=\"/ing/aspx/Empresas/FichaValor.aspx?ISIN=ES0109427734\">ATRESMEDIA</a></td><td>3.8520</td><td class=\"DifClSb\">2.45</td></tr><tr align=\"right\"><td align=\"left\" class=\"DifFlSb\"><a href=\"/ing/aspx/Empresas/FichaValor.aspx?ISIN=ES0136463017\">AUDAX RENOV.</a></td><td>1.6390</td><td class=\"DifClSb\">1.17</td></tr><tr align=\"right\"><td align=\"left\" class=\"DifFlSb\"><a href=\"/ing/aspx/Empresas/FichaValor.aspx?ISIN=ES0121975009\">AUX.FERROCAR</a></td><td>40.4000</td><td class=\"DifClSb\">0.12</td></tr><tr align=\"right\"><td align=\"left\" class=\"DifFlBj\"><a href=\"/ing/aspx/Empresas/FichaValor.aspx?ISIN=ES0112458312\">AZKOYEN</a></td><td>6.7000</td><td class=\"DifClBj\">-2.33</td></tr><tr align=\"right\"><td align=\"left\" class=\"DifFlSb\"><a href=\"/ing/aspx/Empresas/FichaValor.aspx?ISIN=ES0113860A34\">BA.SABADELL</a></td><td>1.0165</td><td class=\"DifClSb\">2.33</td></tr><tr align=\"right\"><td align=\"left\" class=\"DifFlSb\"><a href=\"/ing/aspx/Empresas/FichaValor.aspx?ISIN=ES0113900J37\">BA.SANTANDER</a></td><td>3.7170</td><td class=\"DifClSb\">2.96</td></tr><tr align=\"right\"><td align=\"left\" class=\"DifFlSb\"><a href=\"/ing/aspx/Empresas/FichaValor.aspx?ISIN=ES0113307062\">BANKIA</a></td><td>1.8055</td><td class=\"DifClSb\">4.64</td></tr><tr align=\"right\"><td align=\"left\" class=\"DifFlSb\"><a href=\"/ing/aspx/Empresas/FichaValor.aspx?ISIN=ES0113679I37\">BANKINTER</a></td><td>6.4420</td><td class=\"DifClSb\">2.38</td></tr><tr align=\"right\"><td align=\"left\" class=\"DifFlBj\"><a href=\"/ing/aspx/Empresas/FichaValor.aspx?ISIN=ES0114297015\">BARON DE LEY</a></td><td>109.0000</td><td class=\"DifClBj\">-1.36</td></tr><tr align=\"right\"><td align=\"left\" class=\"DifFlBj\"><a href=\"/ing/aspx/Empresas/FichaValor.aspx?ISIN=ES0119037010\">BAVIERA</a></td><td>13.5000</td><td class=\"DifClBj\">-2.17</td></tr><tr align=\"right\"><td align=\"left\" class=\"DifFlSb\"><a href=\"/ing/aspx/Empresas/FichaValor.aspx?ISIN=ES0113211835\">BBVA</a></td><td>4.8725</td><td class=\"DifClSb\">2.95</td></tr><tr align=\"right\"><td align=\"left\" class=\"DifFlSb\"><a href=\"/ing/aspx/Empresas/FichaValor.aspx?ISIN=AU000000BKY0\">BERKELEY</a></td><td>0.1760</td><td class=\"DifClSb\">1.15</td></tr><tr align=\"right\"><td align=\"left\" class=\"DifFlSb\"><a href=\"/ing/aspx/Empresas/FichaValor.aspx?ISIN=ES0172233118\">BIOSEARCH</a></td><td>0.9280</td><td class=\"DifClSb\">2.43</td></tr><tr align=\"right\"><td align=\"left\" class=\"DifFlSb\"><a href=\"/ing/aspx/Empresas/FichaValor.aspx?ISIN=ES0115056139\">BME</a></td><td>25.4000</td><td class=\"DifClSb\">1.68</td></tr><tr align=\"right\"><td align=\"left\" class=\"DifFlIg\"><a href=\"/ing/aspx/Empresas/FichaValor.aspx?ISIN=ES0115002018\">BO.RIOJANAS</a></td><td>4.5800</td><td class=\"DifClIg\">0.00</td></tr><tr align=\"right\"><td align=\"left\" class=\"DifFlIg\"><a href=\"/ing/aspx/Empresas/FichaValor.aspx?ISIN=ES0105271011\">BORGES BAIN</a></td><td>3.2400</td><td class=\"DifClIg\">- </td></tr><tr align=\"right\"><td align=\"left\" class=\"DifFlSb\"><a href=\"/ing/aspx/Empresas/FichaValor.aspx?ISIN=ES0140609019\">CAIXABANK</a></td><td>2.6920</td><td class=\"DifClSb\">1.62</td></tr><tr align=\"right\"><td align=\"left\" class=\"DifFlIg\"><a href=\"/ing/aspx/Empresas/FichaValor.aspx?ISIN=ES0114400007\">CAM</a></td><td>1.3400</td><td class=\"DifClIg\">- </td></tr><tr align=\"right\"><td align=\"left\" class=\"DifFlSb\"><a href=\"/ing/aspx/Empresas/FichaValor.aspx?ISIN=ES0105229001\">CASH</a></td><td>1.3740</td><td class=\"DifClSb\">0.15</td></tr><tr align=\"right\"><td align=\"left\" class=\"DifFlBj\"><a href=\"/ing/aspx/Empresas/FichaValor.aspx?ISIN=GB00BDCPN049\">CCEP</a></td><td>46.9500</td><td class=\"DifClBj\">-3.00</td></tr><tr align=\"right\"><td align=\"left\" class=\"DifFlBj\"><a href=\"/ing/aspx/Empresas/FichaValor.aspx?ISIN=ES0105066007\">CELLNEX</a></td><td>37.9000</td><td class=\"DifClBj\">-0.94</td></tr><tr align=\"right\"><td align=\"left\" class=\"DifFlSb\"><a href=\"/ing/aspx/Empresas/FichaValor.aspx?ISIN=ES0132955008\">CEVASA</a></td><td>7.7500</td><td class=\"DifClSb\">6.90</td></tr><tr align=\"right\"><td align=\"left\" class=\"DifFlSb\"><a href=\"/ing/aspx/Empresas/FichaValor.aspx?ISIN=ES0105630315\">CIE AUTOMOT.</a></td><td>22.3400</td><td class=\"DifClSb\">3.71</td></tr><tr align=\"right\"><td align=\"left\" class=\"DifFlIg\"><a href=\"/ing/aspx/Empresas/FichaValor.aspx?ISIN=ES0158300410\">CLEOP</a></td><td>1.1500</td><td class=\"DifClIg\">- </td></tr><tr align=\"right\"><td align=\"left\" class=\"DifFlBj\"><a href=\"/ing/aspx/Empresas/FichaValor.aspx?ISIN=ES0119256032\">CODERE</a></td><td>3.1350</td><td class=\"DifClBj\">-3.98</td></tr><tr align=\"right\"><td align=\"left\" class=\"DifFlBj\"><a href=\"/ing/aspx/Empresas/FichaValor.aspx?ISIN=ES0182170003\">COEMAC</a></td><td>2.8300</td><td class=\"DifClBj\">-2.41</td></tr><tr align=\"right\"><td align=\"left\" class=\"DifFlSb\"><a href=\"/ing/aspx/Empresas/FichaValor.aspx?ISIN=ES0117160111\">CORP. ALBA</a></td><td>45.3500</td><td class=\"DifClSb\">0.78</td></tr><tr align=\"right\"><td align=\"left\" class=\"DifFlSb\"><a href=\"/ing/aspx/Empresas/FichaValor.aspx?ISIN=ES0162600003\">D.FELGUERA</a></td><td>0.3960</td><td class=\"DifClSb\">1.54</td></tr><tr align=\"right\"><td align=\"left\" class=\"DifFlSb\"><a href=\"/ing/aspx/Empresas/FichaValor.aspx?ISIN=ES0110047919\">DEOLEO</a></td><td>0.0488</td><td class=\"DifClSb\">1.67</td></tr><tr align=\"right\"><td align=\"left\" class=\"DifFlBj\"><a href=\"/ing/aspx/Empresas/FichaValor.aspx?ISIN=ES0126775032\">DIA</a></td><td>0.1827</td><td class=\"DifClBj\">-0.87</td></tr><tr align=\"right\"><td align=\"left\" class=\"DifFlSb\"><a href=\"/ing/aspx/Empresas/FichaValor.aspx?ISIN=ES0626775904\">DIA D2019</a></td><td>0.0170</td><td class=\"DifClSb\">0.59</td></tr><tr align=\"right\"><td align=\"left\" class=\"DifFlSb\"><a href=\"/ing/aspx/Empresas/FichaValor.aspx?ISIN=ES0105130001\">DOMINION</a></td><td>3.7100</td><td class=\"DifClSb\">0.13</td></tr><tr align=\"right\"><td align=\"left\" class=\"DifFlBj\"><a href=\"/ing/aspx/Empresas/FichaValor.aspx?ISIN=ES0112501012\">EBRO FOODS</a></td><td>19.3500</td><td class=\"DifClBj\">-0.36</td></tr><tr align=\"right\"><td align=\"left\" class=\"DifFlBj\"><a href=\"/ing/aspx/Empresas/FichaValor.aspx?ISIN=LU1048328220\">EDREAMS</a></td><td>3.9300</td><td class=\"DifClBj\">-1.63</td></tr><tr align=\"right\"><td align=\"left\" class=\"DifFlSb\"><a href=\"/ing/aspx/Empresas/FichaValor.aspx?ISIN=ES0129743318\">ELECNOR</a></td><td>10.6000</td><td class=\"DifClSb\">2.42</td></tr><tr align=\"right\"><td align=\"left\" class=\"DifFlSb\"><a href=\"/ing/aspx/Empresas/FichaValor.aspx?ISIN=ES0130960018\">ENAGAS</a></td><td>22.0000</td><td class=\"DifClSb\">0.32</td></tr><tr align=\"right\"><td align=\"left\" class=\"DifFlSb\"><a href=\"/ing/aspx/Empresas/FichaValor.aspx?ISIN=ES0130625512\">ENCE</a></td><td>3.7300</td><td class=\"DifClSb\">0.43</td></tr><tr align=\"right\"><td align=\"left\" class=\"DifFlSb\"><a href=\"/ing/aspx/Empresas/FichaValor.aspx?ISIN=ES0130670112\">ENDESA</a></td><td>24.3000</td><td class=\"DifClSb\">0.21</td></tr><tr align=\"right\"><td align=\"left\" class=\"DifFlSb\"><a href=\"/ing/aspx/Empresas/FichaValor.aspx?ISIN=ES0125140A14\">ERCROS</a></td><td>2.4200</td><td class=\"DifClSb\">3.68</td></tr><tr align=\"right\"><td align=\"left\" class=\"DifFlSb\"><a href=\"/ing/aspx/Empresas/FichaValor.aspx?ISIN=ES0105075008\">EUSKALTEL</a></td><td>8.4400</td><td class=\"DifClSb\">1.32</td></tr><tr align=\"right\"><td align=\"left\" class=\"DifFlSb\"><a href=\"/ing/aspx/Empresas/FichaValor.aspx?ISIN=ES0172708234\">EZENTIS</a></td><td>0.5090</td><td class=\"DifClSb\">0.20</td></tr><tr align=\"right\"><td align=\"left\" class=\"DifFlIg\"><a href=\"/ing/aspx/Empresas/FichaValor.aspx?ISIN=ES0134950F36\">FAES FARMA</a></td><td>5.1600</td><td class=\"DifClIg\">0.00</td></tr><tr align=\"right\"><td align=\"left\" class=\"DifFlBj\"><a href=\"/ing/aspx/Empresas/FichaValor.aspx?ISIN=ES0122060314\">FCC</a></td><td>10.5800</td><td class=\"DifClBj\">-1.12</td></tr><tr align=\"right\"><td align=\"left\" class=\"DifFlSb\"><a href=\"/ing/aspx/Empresas/FichaValor.aspx?ISIN=ES0118900010\">FERROVIAL</a></td><td>27.0700</td><td class=\"DifClSb\">0.22</td></tr><tr align=\"right\"><td align=\"left\" class=\"DifFlBj\"><a href=\"/ing/aspx/Empresas/FichaValor.aspx?ISIN=ES0137650018\">FLUIDRA</a></td><td>11.2400</td><td class=\"DifClBj\">-1.40</td></tr><tr align=\"right\"><td align=\"left\" class=\"DifFlBj\"><a href=\"/ing/aspx/Empresas/FichaValor.aspx?ISIN=ES0141571192\">G.A.M.</a></td><td>1.5450</td><td class=\"DifClBj\">-3.44</td></tr><tr align=\"right\"><td align=\"left\" class=\"DifFlSb\"><a href=\"/ing/aspx/Empresas/FichaValor.aspx?ISIN=ES0641571916\">G.A.M. D2019</a></td><td>0.2900</td><td class=\"DifClSb\">1.75</td></tr><tr align=\"right\"><td align=\"left\" class=\"DifFlSb\"><a href=\"/ing/aspx/Empresas/FichaValor.aspx?ISIN=ES0105223004\">GESTAMP</a></td><td>3.7360</td><td class=\"DifClSb\">10.08</td></tr><tr align=\"right\"><td align=\"left\" class=\"DifFlSb\"><a href=\"/ing/aspx/Empresas/FichaValor.aspx?ISIN=ES0116920333\">GR.C.OCCIDEN</a></td><td>31.9000</td><td class=\"DifClSb\">1.11</td></tr><tr align=\"right\"><td align=\"left\" class=\"DifFlSb\"><a href=\"/ing/aspx/Empresas/FichaValor.aspx?ISIN=ES0171996087\">GRIFOLS CL.A</a></td><td>29.4200</td><td class=\"DifClSb\">0.07</td></tr><tr align=\"right\"><td align=\"left\" class=\"DifFlBj\"><a href=\"/ing/aspx/Empresas/FichaValor.aspx?ISIN=ES0171996095\">GRIFOLS CL.B</a></td><td>19.8600</td><td class=\"DifClBj\">-0.40</td></tr><tr align=\"right\"><td align=\"left\" class=\"DifFlSb\"><a href=\"/ing/aspx/Empresas/FichaValor.aspx?ISIN=ES0177542018\">IAG</a></td><td>6.3720</td><td class=\"DifClSb\">1.30</td></tr><tr align=\"right\"><td align=\"left\" class=\"DifFlBj\"><a href=\"/ing/aspx/Empresas/FichaValor.aspx?ISIN=ES0144580Y14\">IBERDROLA</a></td><td>9.1320</td><td class=\"DifClBj\">-0.48</td></tr><tr align=\"right\"><td align=\"left\" class=\"DifFlBj\"><a href=\"/ing/aspx/Empresas/FichaValor.aspx?ISIN=ES0147561015\">IBERPAPEL</a></td><td>24.9000</td><td class=\"DifClBj\">-0.40</td></tr><tr align=\"right\"><td align=\"left\" class=\"DifFlSb\"><a href=\"/ing/aspx/Empresas/FichaValor.aspx?ISIN=ES0148396007\">INDITEX</a></td><td>28.2500</td><td class=\"DifClSb\">0.04</td></tr><tr align=\"right\"><td align=\"left\" class=\"DifFlSb\"><a href=\"/ing/aspx/Empresas/FichaValor.aspx?ISIN=ES0118594417\">INDRA A</a></td><td>8.8500</td><td class=\"DifClSb\">0.34</td></tr><tr align=\"right\"><td align=\"left\" class=\"DifFlSb\"><a href=\"/ing/aspx/Empresas/FichaValor.aspx?ISIN=ES0139140174\">INM.COLONIAL</a></td><td>11.5000</td><td class=\"DifClSb\">0.61</td></tr><tr align=\"right\"><td align=\"left\" class=\"DifFlBj\"><a href=\"/ing/aspx/Empresas/FichaValor.aspx?ISIN=ES0154653911\">INM.DEL SUR</a></td><td>10.4500</td><td class=\"DifClBj\">-1.88</td></tr><tr align=\"right\"><td align=\"left\" class=\"DifFlSb\"><a href=\"/ing/aspx/Empresas/FichaValor.aspx?ISIN=ES0105015012\">LAR ESPAÑA</a></td><td>8.0800</td><td class=\"DifClSb\">1.00</td></tr><tr align=\"right\"><td align=\"left\" class=\"DifFlSb\"><a href=\"/ing/aspx/Empresas/FichaValor.aspx?ISIN=ES0168675090\">LIBERBANK</a></td><td>0.2950</td><td class=\"DifClSb\">2.08</td></tr><tr align=\"right\"><td align=\"left\" class=\"DifFlSb\"><a href=\"/ing/aspx/Empresas/FichaValor.aspx?ISIN=ES0158480311\">LINGOTES ESP</a></td><td>13.8000</td><td class=\"DifClSb\">3.37</td></tr><tr align=\"right\"><td align=\"left\" class=\"DifFlSb\"><a href=\"/ing/aspx/Empresas/FichaValor.aspx?ISIN=ES0105027009\">LOGISTA</a></td><td>19.1000</td><td class=\"DifClSb\">0.16</td></tr><tr align=\"right\"><td align=\"left\" class=\"DifFlSb\"><a href=\"/ing/aspx/Empresas/FichaValor.aspx?ISIN=ES0124244E34\">MAPFRE</a></td><td>2.5500</td><td class=\"DifClSb\">0.75</td></tr><tr align=\"right\"><td align=\"left\" class=\"DifFlSb\"><a href=\"/ing/aspx/Empresas/FichaValor.aspx?ISIN=ES0184696104\">MASMOVIL</a></td><td>20.4200</td><td class=\"DifClSb\">0.39</td></tr><tr align=\"right\"><td align=\"left\" class=\"DifFlSb\"><a href=\"/ing/aspx/Empresas/FichaValor.aspx?ISIN=ES0152503035\">MEDIASET</a></td><td>5.4860</td><td class=\"DifClSb\">0.44</td></tr><tr align=\"right\"><td align=\"left\" class=\"DifFlBj\"><a href=\"/ing/aspx/Empresas/FichaValor.aspx?ISIN=ES0176252718\">MELIA HOTELS</a></td><td>7.2750</td><td class=\"DifClBj\">-2.15</td></tr><tr align=\"right\"><td align=\"left\" class=\"DifFlSb\"><a href=\"/ing/aspx/Empresas/FichaValor.aspx?ISIN=ES0105025003\">MERLIN</a></td><td>13.1800</td><td class=\"DifClSb\">0.38</td></tr><tr align=\"right\"><td align=\"left\" class=\"DifFlSb\"><a href=\"/ing/aspx/Empresas/FichaValor.aspx?ISIN=ES0105122024\">METROVACESA</a></td><td>8.5100</td><td class=\"DifClSb\">0.83</td></tr><tr align=\"right\"><td align=\"left\" class=\"DifFlIg\"><a href=\"/ing/aspx/Empresas/FichaValor.aspx?ISIN=ES0164180012\">MIQUEL COST.</a></td><td>15.2800</td><td class=\"DifClIg\">0.00</td></tr><tr align=\"right\"><td align=\"left\" class=\"DifFlIg\"><a href=\"/ing/aspx/Empresas/FichaValor.aspx?ISIN=ES0116494016\">MONTEBALITO</a></td><td>1.5500</td><td class=\"DifClIg\">0.00</td></tr><tr align=\"right\"><td align=\"left\" class=\"DifFlBj\"><a href=\"/ing/aspx/Empresas/FichaValor.aspx?ISIN=ES0116870314\">NATURGY</a></td><td>23.9000</td><td class=\"DifClBj\">-0.46</td></tr><tr align=\"right\"><td align=\"left\" class=\"DifFlBj\"><a href=\"/ing/aspx/Empresas/FichaValor.aspx?ISIN=ES0105043006\">NATURHOUSE</a></td><td>1.8420</td><td class=\"DifClBj\">-0.97</td></tr><tr align=\"right\"><td align=\"left\" class=\"DifFlSb\"><a href=\"/ing/aspx/Empresas/FichaValor.aspx?ISIN=ES0105251005\">NEINOR</a></td><td>11.7900</td><td class=\"DifClSb\">0.08</td></tr><tr align=\"right\"><td align=\"left\" class=\"DifFlBj\"><a href=\"/ing/aspx/Empresas/FichaValor.aspx?ISIN=ES0126962069\">NEXTIL</a></td><td>0.8200</td><td class=\"DifClBj\">-1.20</td></tr><tr align=\"right\"><td align=\"left\" class=\"DifFlBj\"><a href=\"/ing/aspx/Empresas/FichaValor.aspx?ISIN=ES0161560018\">NH HOTEL</a></td><td>4.4640</td><td class=\"DifClBj\">-0.36</td></tr><tr align=\"right\"><td align=\"left\" class=\"DifFlSb\"><a href=\"/ing/aspx/Empresas/FichaValor.aspx?ISIN=ES0166300212\">NICO.CORREA</a></td><td>4.3300</td><td class=\"DifClSb\">1.88</td></tr><tr align=\"right\"><td align=\"left\" class=\"DifFlSb\"><a href=\"/ing/aspx/Empresas/FichaValor.aspx?ISIN=ES0150480111\">NYESA</a></td><td>0.0135</td><td class=\"DifClSb\">0.75</td></tr><tr align=\"right\"><td align=\"left\" class=\"DifFlSb\"><a href=\"/ing/aspx/Empresas/FichaValor.aspx?ISIN=ES0142090317\">OHL</a></td><td>1.0220</td><td class=\"DifClSb\">0.54</td></tr><tr align=\"right\"><td align=\"left\" class=\"DifFlSb\"><a href=\"/ing/aspx/Empresas/FichaValor.aspx?ISIN=ES0167733015\">ORYZON</a></td><td>2.6800</td><td class=\"DifClSb\">3.28</td></tr><tr align=\"right\"><td align=\"left\" class=\"DifFlBj\"><a href=\"/ing/aspx/Empresas/FichaValor.aspx?ISIN=ES0105131009\">PARQUES RSC</a></td><td>13.8200</td><td class=\"DifClBj\">-1.29</td></tr><tr align=\"right\"><td align=\"left\" class=\"DifFlSb\"><a href=\"/ing/aspx/Empresas/FichaValor.aspx?ISIN=ES0169350016\">PESCANOVA</a></td><td>0.4720</td><td class=\"DifClSb\">0.43</td></tr><tr align=\"right\"><td align=\"left\" class=\"DifFlBj\"><a href=\"/ing/aspx/Empresas/FichaValor.aspx?ISIN=ES0169501030\">PHARMA MAR</a></td><td>1.8890</td><td class=\"DifClBj\">-1.41</td></tr><tr align=\"right\"><td align=\"left\" class=\"DifFlSb\"><a href=\"/ing/aspx/Empresas/FichaValor.aspx?ISIN=ES0170884417\">PRIM</a></td><td>10.9500</td><td class=\"DifClSb\">0.92</td></tr><tr align=\"right\"><td align=\"left\" class=\"DifFlBj\"><a href=\"/ing/aspx/Empresas/FichaValor.aspx?ISIN=ES0171743901\">PRISA</a></td><td>1.3240</td><td class=\"DifClBj\">-2.07</td></tr><tr align=\"right\"><td align=\"left\" class=\"DifFlSb\"><a href=\"/ing/aspx/Empresas/FichaValor.aspx?ISIN=ES0175438003\">PROSEGUR</a></td><td>3.6160</td><td class=\"DifClSb\">1.86</td></tr><tr align=\"right\"><td align=\"left\" class=\"DifFlSb\"><a href=\"/ing/aspx/Empresas/FichaValor.aspx?ISIN=ES0110944172\">QUABIT</a></td><td>0.8390</td><td class=\"DifClSb\">5.40</td></tr><tr align=\"right\"><td align=\"left\" class=\"DifFlBj\"><a href=\"/ing/aspx/Empresas/FichaValor.aspx?ISIN=ES0173093024\">R.E.C.</a></td><td>18.0200</td><td class=\"DifClBj\">-0.22</td></tr><tr align=\"right\"><td align=\"left\" class=\"DifFlBj\"><a href=\"/ing/aspx/Empresas/FichaValor.aspx?ISIN=ES0173908015\">REALIA</a></td><td>0.8820</td><td class=\"DifClBj\">-0.34</td></tr><tr align=\"right\"><td align=\"left\" class=\"DifFlBj\"><a href=\"/ing/aspx/Empresas/FichaValor.aspx?ISIN=ES0165359029\">REIG JOFRE</a></td><td>2.3500</td><td class=\"DifClBj\">-1.26</td></tr><tr align=\"right\"><td align=\"left\" class=\"DifFlSb\"><a href=\"/ing/aspx/Empresas/FichaValor.aspx?ISIN=IT0001178299\">RENO M. S/A</a></td><td>0.7810</td><td class=\"DifClSb\">1.03</td></tr><tr align=\"right\"><td align=\"left\" class=\"DifFlIg\"><a href=\"/ing/aspx/Empresas/FichaValor.aspx?ISIN=IT0001178240\">RENO M.CONV.</a></td><td>0.7000</td><td class=\"DifClIg\">- </td></tr><tr align=\"right\"><td align=\"left\" class=\"DifFlBj\"><a href=\"/ing/aspx/Empresas/FichaValor.aspx?ISIN=ES0173358039\">RENTA 4</a></td><td>6.6000</td><td class=\"DifClBj\">-0.90</td></tr><tr align=\"right\"><td align=\"left\" class=\"DifFlSb\"><a href=\"/ing/aspx/Empresas/FichaValor.aspx?ISIN=ES0173365018\">RENTA CORP.</a></td><td>3.4000</td><td class=\"DifClSb\">4.29</td></tr><tr align=\"right\"><td align=\"left\" class=\"DifFlSb\"><a href=\"/ing/aspx/Empresas/FichaValor.aspx?ISIN=ES0173516115\">REPSOL</a></td><td>15.4700</td><td class=\"DifClSb\">2.15</td></tr><tr align=\"right\"><td align=\"left\" class=\"DifFlSb\"><a href=\"/ing/aspx/Empresas/FichaValor.aspx?ISIN=ES0157261019\">ROVI</a></td><td>22.0000</td><td class=\"DifClSb\">0.46</td></tr><tr align=\"right\"><td align=\"left\" class=\"DifFlSb\"><a href=\"/ing/aspx/Empresas/FichaValor.aspx?ISIN=ES0182870214\">SACYR</a></td><td>2.6620</td><td class=\"DifClSb\">1.91</td></tr><tr align=\"right\"><td align=\"left\" class=\"DifFlBj\"><a href=\"/ing/aspx/Empresas/FichaValor.aspx?ISIN=ES0180918015\">SAN JOSE</a></td><td>7.8800</td><td class=\"DifClBj\">-0.25</td></tr><tr align=\"right\"><td align=\"left\" class=\"DifFlBj\"><a href=\"/ing/aspx/Empresas/FichaValor.aspx?ISIN=ES0143421073\">SERVICE P.S.</a></td><td>0.6220</td><td class=\"DifClBj\">-3.72</td></tr><tr align=\"right\"><td align=\"left\" class=\"DifFlSb\"><a href=\"/ing/aspx/Empresas/FichaValor.aspx?ISIN=ES0143416115\">SIEMENS GAME</a></td><td>12.8650</td><td class=\"DifClSb\">1.78</td></tr><tr align=\"right\"><td align=\"left\" class=\"DifFlBj\"><a href=\"/ing/aspx/Empresas/FichaValor.aspx?ISIN=ES0165380017\">SNIACE</a></td><td>0.0830</td><td class=\"DifClBj\">-2.58</td></tr><tr align=\"right\"><td align=\"left\" class=\"DifFlSb\"><a href=\"/ing/aspx/Empresas/FichaValor.aspx?ISIN=ES0165386014\">SOLARIA</a></td><td>7.2000</td><td class=\"DifClSb\">1.41</td></tr><tr align=\"right\"><td align=\"left\" class=\"DifFlIg\"><a href=\"/ing/aspx/Empresas/FichaValor.aspx?ISIN=ES0105385001\">SOLARPACK</a></td><td>11.4400</td><td class=\"DifClIg\">0.00</td></tr><tr align=\"right\"><td align=\"left\" class=\"DifFlSb\"><a href=\"/ing/aspx/Empresas/FichaValor.aspx?ISIN=ES0105065009\">TALGO</a></td><td>5.6700</td><td class=\"DifClSb\">0.89</td></tr><tr align=\"right\"><td align=\"left\" class=\"DifFlSb\"><a href=\"/ing/aspx/Empresas/FichaValor.aspx?ISIN=ES0178165017\">TEC.REUNIDAS</a></td><td>23.1000</td><td class=\"DifClSb\">1.49</td></tr><tr align=\"right\"><td align=\"left\" class=\"DifFlSb\"><a href=\"/ing/aspx/Empresas/FichaValor.aspx?ISIN=ES0178430E18\">TELEFONICA</a></td><td>6.9470</td><td class=\"DifClSb\">0.48</td></tr><tr align=\"right\"><td align=\"left\" class=\"DifFlSb\"><a href=\"/ing/aspx/Empresas/FichaValor.aspx?ISIN=ES0132945017\">TUBACEX</a></td><td>2.7300</td><td class=\"DifClSb\">1.68</td></tr><tr align=\"right\"><td align=\"left\" class=\"DifFlSb\"><a href=\"/ing/aspx/Empresas/FichaValor.aspx?ISIN=ES0180850416\">TUBOS REUNI.</a></td><td>0.2085</td><td class=\"DifClSb\">2.46</td></tr><tr align=\"right\"><td align=\"left\" class=\"DifFlSb\"><a href=\"/ing/aspx/Empresas/FichaValor.aspx?ISIN=ES0180907000\">UNICAJA</a></td><td>0.8650</td><td class=\"DifClSb\">3.84</td></tr><tr align=\"right\"><td align=\"left\" class=\"DifFlIg\"><a href=\"/ing/aspx/Empresas/FichaValor.aspx?ISIN=ES0182280018\">URBAS</a></td><td>0.0072</td><td class=\"DifClIg\">0.00</td></tr><tr align=\"right\"><td align=\"left\" class=\"DifFlBj\"><a href=\"/ing/aspx/Empresas/FichaValor.aspx?ISIN=ES0183304312\">VERTICE 360</a></td><td>0.0035</td><td class=\"DifClBj\">-5.41</td></tr><tr align=\"right\"><td align=\"left\" class=\"DifFlBj\"><a href=\"/ing/aspx/Empresas/FichaValor.aspx?ISIN=ES0183746314\">VIDRALA</a></td><td>77.9000</td><td class=\"DifClBj\">-0.13</td></tr><tr align=\"right\"><td align=\"left\" class=\"DifFlSb\"><a href=\"/ing/aspx/Empresas/FichaValor.aspx?ISIN=ES0683746970\">VIDRALA D19</a></td><td>3.8750</td><td class=\"DifClSb\">1.44</td></tr><tr align=\"right\"><td align=\"left\" class=\"DifFlBj\"><a href=\"/ing/aspx/Empresas/FichaValor.aspx?ISIN=ES0184262212\">VISCOFAN</a></td><td>48.4400</td><td class=\"DifClBj\">-0.90</td></tr><tr align=\"right\"><td align=\"left\" class=\"DifFlBj\"><a href=\"/ing/aspx/Empresas/FichaValor.aspx?ISIN=ES0114820113\">VOCENTO</a></td><td>1.2250</td><td class=\"DifClBj\">-0.81</td></tr><tr align=\"right\"><td align=\"left\" class=\"DifFlSb\"><a href=\"/ing/aspx/Empresas/FichaValor.aspx?ISIN=ES0184933812\">ZARDOYA OTIS</a></td><td>6.8950</td><td class=\"DifClSb\">1.03</td></tr></table>\n",
      "<div class=\"PortadaFechaAcc\">Prices as of 04/11/2019 17:04</div>\n",
      "<script language=\"javascript\">\r\n",
      "var selTblAcciones = function (idTbl) { selTblAccPort(idTbl, \"Acciones\"); $(\"#citaEfectivo\").toggle(idTbl==\"MasActivos\"); }\r\n",
      "</script>\n",
      "<table cellpadding=\"0\" cellspacing=\"0\" class=\"CabTblAccPort TitTbl\" data-tablagrupo=\"Acciones\" width=\"100%\"><tr align=\"center\">\n",
      "<td class=\"On mclick\" data-tablaacc=\"MasActivos\" width=\"38%\"><a href=\"javascript:selTblAcciones('MasActivos');\">\r\n",
      "MOST TRADED</a></td>\n",
      "<td class=\"Off mclick\" data-tablaacc=\"Mejores\" width=\"31%\"><a href=\"javascript:selTblAcciones('Mejores');\">\r\n",
      "RISING</a></td>\n",
      "<td class=\"Off mclick\" data-tablaacc=\"Peores\" width=\"31%\"><a href=\"javascript:selTblAcciones('Peores');\">\r\n",
      "FALLING</a></td>\n",
      "</tr></table>\n",
      "<table border=\"0\" cellpadding=\"3\" cellspacing=\"0\" class=\"TblPort TblAccPort\" data-tablaacc=\"MasActivos\" data-tablagrupo=\"Acciones\" width=\"100%\">\n",
      "<tr>\n",
      "<th>Name</th>\n",
      "<th>Turnover <span style=\"font-size: 9px\">*</span></th>\n",
      "</tr>\n",
      "<tr align=\"right\"><td align=\"left\" class=\"DifFlSb\"><a href=\"/ing/aspx/Empresas/FichaValor.aspx?ISIN=ES0113900J37\">BA.SANTANDER</a></td><td>1,143,716.10</td></tr><tr align=\"right\"><td align=\"left\" class=\"DifFlSb\"><a href=\"/ing/aspx/Empresas/FichaValor.aspx?ISIN=ES0148396007\">INDITEX</a></td><td>379,460.07</td></tr><tr align=\"right\"><td align=\"left\" class=\"DifFlBj\"><a href=\"/ing/aspx/Empresas/FichaValor.aspx?ISIN=ES0116870314\">NATURGY</a></td><td>79,075.83</td></tr><tr align=\"right\"><td align=\"left\" class=\"DifFlSb\"><a href=\"/ing/aspx/Empresas/FichaValor.aspx?ISIN=ES0173516115\">REPSOL</a></td><td>60,555.53</td></tr><tr align=\"right\"><td align=\"left\" class=\"DifFlBj\"><a href=\"/ing/aspx/Empresas/FichaValor.aspx?ISIN=ES0144580Y14\">IBERDROLA</a></td><td>57,556.94</td></tr>\n",
      "</table>\n",
      "<table border=\"0\" cellpadding=\"3\" cellspacing=\"0\" class=\"TblPort TblAccPort\" data-tablaacc=\"Mejores\" data-tablagrupo=\"Acciones\" style=\"display: none;\" width=\"100%\">\n",
      "<tr>\n",
      "<th>Name</th>\n",
      "<th>Last</th>\n",
      "<th>% Dif.</th>\n",
      "</tr>\n",
      "<tr align=\"right\"><td align=\"left\" class=\"DifFlSb\"><a href=\"/ing/aspx/Empresas/FichaValor.aspx?ISIN=ES0105223004\">GESTAMP</a></td><td>3.7360</td><td class=\"DifClSb\">10.08</td></tr><tr align=\"right\"><td align=\"left\" class=\"DifFlSb\"><a href=\"/ing/aspx/Empresas/FichaValor.aspx?ISIN=ES0132955008\">CEVASA</a></td><td>7.7500</td><td class=\"DifClSb\">6.90</td></tr><tr align=\"right\"><td align=\"left\" class=\"DifFlSb\"><a href=\"/ing/aspx/Empresas/FichaValor.aspx?ISIN=ES0110944172\">QUABIT</a></td><td>0.8390</td><td class=\"DifClSb\">5.40</td></tr><tr align=\"right\"><td align=\"left\" class=\"DifFlSb\"><a href=\"/ing/aspx/Empresas/FichaValor.aspx?ISIN=ES0113307062\">BANKIA</a></td><td>1.8055</td><td class=\"DifClSb\">4.64</td></tr><tr align=\"right\"><td align=\"left\" class=\"DifFlSb\"><a href=\"/ing/aspx/Empresas/FichaValor.aspx?ISIN=LU1598757687\">ARCELORMIT.</a></td><td>14.6440</td><td class=\"DifClSb\">4.33</td></tr>\n",
      "</table>\n",
      "<table border=\"0\" cellpadding=\"3\" cellspacing=\"0\" class=\"TblPort TblAccPort\" data-tablaacc=\"Peores\" data-tablagrupo=\"Acciones\" style=\"display: none;\" width=\"100%\">\n",
      "<tr>\n",
      "<th>Name</th>\n",
      "<th>Last</th>\n",
      "<th>% Dif.</th>\n",
      "</tr>\n",
      "<tr align=\"right\"><td align=\"left\" class=\"DifFlBj\"><a href=\"/ing/aspx/Empresas/FichaValor.aspx?ISIN=ES0183304312\">VERTICE 360</a></td><td>0.0035</td><td class=\"DifClBj\">-5.41</td></tr><tr align=\"right\"><td align=\"left\" class=\"DifFlBj\"><a href=\"/ing/aspx/Empresas/FichaValor.aspx?ISIN=ES0119256032\">CODERE</a></td><td>3.1350</td><td class=\"DifClBj\">-3.98</td></tr><tr align=\"right\"><td align=\"left\" class=\"DifFlBj\"><a href=\"/ing/aspx/Empresas/FichaValor.aspx?ISIN=ES0143421073\">SERVICE P.S.</a></td><td>0.6220</td><td class=\"DifClBj\">-3.72</td></tr><tr align=\"right\"><td align=\"left\" class=\"DifFlBj\"><a href=\"/ing/aspx/Empresas/FichaValor.aspx?ISIN=ES0141571192\">G.A.M.</a></td><td>1.5450</td><td class=\"DifClBj\">-3.44</td></tr><tr align=\"right\"><td align=\"left\" class=\"DifFlBj\"><a href=\"/ing/aspx/Empresas/FichaValor.aspx?ISIN=GB00BDCPN049\">CCEP</a></td><td>46.9500</td><td class=\"DifClBj\">-3.00</td></tr>\n",
      "</table>\n",
      "<div class=\"PortadaCitaAcc\" id=\"citaEfectivo\">* thousands of euros</div>\n",
      "<div class=\"PortadaFechaAcc\">Prices as of 04/11/2019 17:04</div>\n",
      "<div class=\"col2 primero\" style=\"margin-bottom:0\">\n",
      "<a class=\"twitter-timeline\" data-widget-id=\"717291968292896768\" height=\"300\" href=\"https://twitter.com/GrupoBME\" width=\"100%\">Tweets por el @GrupoBME.</a>\n",
      "<script>!function(d,s,id){var js,fjs=d.getElementsByTagName(s)[0],p=/^http:/.test(d.location)?'http':'https';if(!d.getElementById(id)){js=d.createElement(s);js.id=id;js.src=p+\"://platform.twitter.com/widgets.js\";fjs.parentNode.insertBefore(js,fjs);}}(document,\"script\",\"twitter-wjs\");</script>\n",
      "</div>\n",
      "</div>\n",
      "<div data-api=\"/aspx/Controles\" data-prod=\"\" id=\"MarketStatus\"><div>\n",
      "<h3>MARKET STATUS <span class=\"ms-Icon ms-Icon-Info\"></span><br/><span class=\"ms-FechaHora\"></span></h3>\n",
      "<div class=\"ms-Estado\" data-url=\"/ing/aspx/Market-Status/Market-Status.aspx\" data-url-conex=\"https://www.bolsasymercados.es/MarketStatus\"></div>\n",
      "<div id=\"MarketStatusInfo\">\n",
      "<p>The <strong>Market Status</strong> informs through quick and easy-to-read notices on incidents affecting the Equity markets as well as Indices and financial systems operated by BME.</p>\n",
      "<p>If an issue occurs, the message \"<strong>TRADING</strong>\" will change to \"<strong>MARKET ISSUE</strong>\" to reflect that a market event has occurred. By clicking on the Issue of the published alert it will be possible to access the information and intraday updates associated with this incident, which will be published immediately.</p>\n",
      "<p>Note: BME will use its discretion to assign the severity of an incident</p>\n",
      "</div>\n",
      "</div></div>\n",
      "<div class=\"finFila\"></div>\n",
      "</td>END\n",
      "\n",
      "\n",
      "<td align=\"left\" class=\"DifFlSb\"><a href=\"/ing/aspx/Empresas/FichaValor.aspx?ISIN=ES0125220311\">ACCIONA</a></td>END\n",
      "\n",
      "\n",
      "<a href=\"/ing/aspx/Empresas/FichaValor.aspx?ISIN=ES0125220311\">ACCIONA</a>END\n",
      "\n",
      "\n",
      "<td align=\"left\" class=\"DifFlSb\"><a href=\"/ing/aspx/Empresas/FichaValor.aspx?ISIN=ES0125220311\">ACCIONA</a></td>END\n",
      "\n",
      "\n",
      "<a href=\"/ing/aspx/Empresas/FichaValor.aspx?ISIN=ES0125220311\">ACCIONA</a>END\n",
      "\n",
      "\n"
     ]
    }
   ],
   "source": [
    "for item in tags:\n",
    "    if str(item).find('ACCIONA') != -1:\n",
    "        print(str(item) + \"END\\n\\n\")"
   ]
  },
  {
   "cell_type": "code",
   "execution_count": 34,
   "metadata": {
    "pycharm": {
     "name": "#%%\n"
    }
   },
   "outputs": [
    {
     "data": {
      "text/plain": [
       "<td colspan=\"6\" id=\"CabeceraArr\">\n",
       "<div id=\"Idiomas\"><ul><li class=\"mclick\"><a href=\"/?id=esp\" target=\"_self\"> Español </a></li></ul></div>\n",
       "<div id=\"MenuSup\"><ul><li class=\"mclick\"><a href=\"http://www.bolsasymercados.es/ing/Shareholders-Investors\" target=\"_blank\"> BME's Shareholders and Investors </a></li><li class=\"mclick\"><a href=\"/ing/BMadrid/Contacto.aspx\" target=\"_self\"> Contact </a></li><li class=\"mclick\"><a href=\"/ing/Inversores/Agenda/HorarioMercado.aspx\" target=\"_self\"> Trading Hours </a></li><li class=\"mclick\"><a href=\"/ing/aspx/Inversores/Agenda/Calendario.aspx\" target=\"_self\"> Trading Calendar </a></li><li class=\"mclick\"><a href=\"/ing/RSS.aspx\" target=\"_self\"> RSS   <img align=\"absmiddle\" alt=\"RSS\" border=\"0\" src=\"/images/IconoRSS.png\"/> </a></li></ul></div>\n",
       "</td>"
      ]
     },
     "execution_count": 34,
     "metadata": {},
     "output_type": "execute_result"
    }
   ],
   "source": [
    "tags[0]"
   ]
  },
  {
   "cell_type": "code",
   "execution_count": 49,
   "metadata": {
    "pycharm": {
     "name": "#%%\n"
    }
   },
   "outputs": [],
   "source": [
    "b = soup.findAll(text = True)"
   ]
  },
  {
   "cell_type": "code",
   "execution_count": 50,
   "metadata": {
    "pycharm": {
     "name": "#%%\n"
    }
   },
   "outputs": [
    {
     "name": "stdout",
     "output_type": "stream",
     "text": [
      "ACCIONA\n",
      "93.0000\n",
      "-0.11\n",
      "ACCIONA\n",
      "93.0000\n",
      "-0.11\n"
     ]
    }
   ],
   "source": [
    "for i in range(len(b)):\n",
    "    if str(b[i]).find('ACCIONA') != -1:\n",
    "        print(b[i])\n",
    "        print(b[i+1])\n",
    "        print(b[i+2])"
   ]
  },
  {
   "cell_type": "code",
   "execution_count": 41,
   "metadata": {
    "pycharm": {
     "name": "#%%\n"
    }
   },
   "outputs": [
    {
     "data": {
      "text/plain": [
       "bs4.element.NavigableString"
      ]
     },
     "execution_count": 41,
     "metadata": {},
     "output_type": "execute_result"
    }
   ],
   "source": [
    "type(b[134])"
   ]
  },
  {
   "cell_type": "code",
   "execution_count": null,
   "metadata": {
    "pycharm": {
     "name": "#%%\n"
    }
   },
   "outputs": [],
   "source": [
    "# you may take list from excel file"
   ]
  },
  {
   "cell_type": "code",
   "execution_count": 53,
   "metadata": {
    "pycharm": {
     "name": "#%%\n"
    }
   },
   "outputs": [],
   "source": [
    "ibex35 = [ 'ACCIONA', 'ACERINOX', 'ACS', 'AENA', 'AMADEUS', 'ARCELORMIT.', 'BA.SABADELL', 'BA.SANTANDER', 'BANKIA', \\\n",
    "          'BANKINTER', 'BBVA', 'CAIXABANK', 'CELLNEX', 'CIE AUTOMOT.', 'ENAGAS', 'ENCE', 'ENDESA', 'FERROVIAL', 'GRIFOLS CL.A',\\\n",
    "          'IAG', 'IBERDROLA', 'INDITEX', 'INDRA A', 'INM.COLONIAL', 'MAPFRE', 'MASMOVIL', 'MEDIASET', 'MELIA HOTELS', 'MERLIN',\\\n",
    "          'NATURGY', 'R.E.C.', 'REPSOL', 'SIEMENS GAME', 'TELEFONICA', 'VISCOFAN']"
   ]
  },
  {
   "cell_type": "code",
   "execution_count": 65,
   "metadata": {
    "pycharm": {
     "name": "#%%\n"
    }
   },
   "outputs": [],
   "source": [
    "ibexUrl = 'http://www.bolsamadrid.es/ing/aspx/Mercados/Precios.aspx?indice=ESI100000000'"
   ]
  },
  {
   "cell_type": "code",
   "execution_count": 67,
   "metadata": {
    "pycharm": {
     "name": "#%%\n"
    }
   },
   "outputs": [],
   "source": [
    "doc = requests.get(ibexUrl)"
   ]
  },
  {
   "cell_type": "code",
   "execution_count": 68,
   "metadata": {
    "pycharm": {
     "name": "#%%\n"
    }
   },
   "outputs": [],
   "source": [
    "soup = BeautifulSoup(''.join(doc.text))"
   ]
  },
  {
   "cell_type": "code",
   "execution_count": 69,
   "metadata": {
    "pycharm": {
     "name": "#%%\n"
    }
   },
   "outputs": [],
   "source": [
    "t = soup.findAll(text = True)"
   ]
  },
  {
   "cell_type": "code",
   "execution_count": 5,
   "metadata": {
    "pycharm": {
     "name": "#%%\n"
    }
   },
   "outputs": [],
   "source": [
    "# completed function\n",
    "def ibexUpdater(nameOfshare):\n",
    "    \"\"\"\n",
    "    download last price of IBEX share from bolsademadrid\n",
    "    \"\"\"    \n",
    "    ibexUrl = 'http://www.bolsamadrid.es/ing/aspx/Mercados/Precios.aspx?indice=ESI100000000' # page with market data\n",
    "    \n",
    "    doc = requests.get(ibexUrl) # query to page\n",
    "    soup = BeautifulSoup(''.join(doc.text)) # push page to soup\n",
    "    bsResult = soup.findAll(text = True) # retrieve all text from soup\n",
    "    \n",
    "    resultDict = {}\n",
    "    for i in range(len(bsResult)):\n",
    "        if str(bsResult[i]).find(nameOfshare) != -1:\n",
    "            resultDict['nameOfshare'] = bsResult[i]\n",
    "            resultDict['last'] = bsResult[i+1]\n",
    "            resultDict['high'] = bsResult[i+3]\n",
    "            resultDict['low'] = bsResult[i+4]\n",
    "            resultDict['volume'] = bsResult[i+5]\n",
    "    return resultDict"
   ]
  },
  {
   "cell_type": "code",
   "execution_count": 87,
   "metadata": {
    "pycharm": {
     "name": "#%%\n"
    }
   },
   "outputs": [],
   "source": [
    "nameOfshare = 'ACCIONA'"
   ]
  },
  {
   "cell_type": "code",
   "execution_count": 88,
   "metadata": {
    "pycharm": {
     "name": "#%%\n"
    }
   },
   "outputs": [],
   "source": [
    "bsResult = soup.findAll(text = True)"
   ]
  },
  {
   "cell_type": "code",
   "execution_count": 90,
   "metadata": {
    "pycharm": {
     "name": "#%%\n"
    }
   },
   "outputs": [
    {
     "data": {
      "text/plain": [
       "{'nameOfshare': 'FERROVIAL',\n",
       " 'last': '27.0100',\n",
       " 'high': '27.1800',\n",
       " 'low': '26.9300',\n",
       " 'volume': '2,209,403'}"
      ]
     },
     "execution_count": 90,
     "metadata": {},
     "output_type": "execute_result"
    }
   ],
   "source": []
  },
  {
   "cell_type": "code",
   "execution_count": 7,
   "metadata": {
    "pycharm": {
     "name": "#%%\n"
    }
   },
   "outputs": [
    {
     "data": {
      "text/plain": [
       "{'nameOfshare': 'ACCIONA',\n",
       " 'last': '93.3000',\n",
       " 'high': '93.4500',\n",
       " 'low': '92.4500',\n",
       " 'volume': '46,860'}"
      ]
     },
     "execution_count": 7,
     "metadata": {},
     "output_type": "execute_result"
    }
   ],
   "source": [
    "ibexUpdater('ACCIONA')"
   ]
  },
  {
   "cell_type": "code",
   "execution_count": null,
   "metadata": {
    "pycharm": {
     "name": "#%%\n"
    }
   },
   "outputs": [],
   "source": []
  }
 ],
 "metadata": {
  "kernelspec": {
   "display_name": "Python 3",
   "language": "python",
   "name": "python3"
  },
  "language_info": {
   "codemirror_mode": {
    "name": "ipython",
    "version": 3
   },
   "file_extension": ".py",
   "mimetype": "text/x-python",
   "name": "python",
   "nbconvert_exporter": "python",
   "pygments_lexer": "ipython3",
   "version": "3.7.3"
  }
 },
 "nbformat": 4,
 "nbformat_minor": 2
}